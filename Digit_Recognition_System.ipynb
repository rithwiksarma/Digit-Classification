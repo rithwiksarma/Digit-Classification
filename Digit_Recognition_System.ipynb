{
  "nbformat": 4,
  "nbformat_minor": 0,
  "metadata": {
    "colab": {
      "name": "Digit Recognition System.ipynb",
      "provenance": [],
      "collapsed_sections": []
    },
    "kernelspec": {
      "name": "python3",
      "display_name": "Python 3"
    },
    "language_info": {
      "name": "python"
    },
    "accelerator": "GPU",
    "widgets": {
      "application/vnd.jupyter.widget-state+json": {
        "cd674e18da864b02a4fea0e819d26386": {
          "model_module": "@jupyter-widgets/controls",
          "model_name": "HBoxModel",
          "state": {
            "_view_name": "HBoxView",
            "_dom_classes": [],
            "_model_name": "HBoxModel",
            "_view_module": "@jupyter-widgets/controls",
            "_model_module_version": "1.5.0",
            "_view_count": null,
            "_view_module_version": "1.5.0",
            "box_style": "",
            "layout": "IPY_MODEL_35ca2742816342169e29499150ff71d1",
            "_model_module": "@jupyter-widgets/controls",
            "children": [
              "IPY_MODEL_1b0a9a465291484499ee77628341dd6d",
              "IPY_MODEL_679ee23df1b34454a6e0ec0b0fd96a49"
            ]
          }
        },
        "35ca2742816342169e29499150ff71d1": {
          "model_module": "@jupyter-widgets/base",
          "model_name": "LayoutModel",
          "state": {
            "_view_name": "LayoutView",
            "grid_template_rows": null,
            "right": null,
            "justify_content": null,
            "_view_module": "@jupyter-widgets/base",
            "overflow": null,
            "_model_module_version": "1.2.0",
            "_view_count": null,
            "flex_flow": null,
            "width": null,
            "min_width": null,
            "border": null,
            "align_items": null,
            "bottom": null,
            "_model_module": "@jupyter-widgets/base",
            "top": null,
            "grid_column": null,
            "overflow_y": null,
            "overflow_x": null,
            "grid_auto_flow": null,
            "grid_area": null,
            "grid_template_columns": null,
            "flex": null,
            "_model_name": "LayoutModel",
            "justify_items": null,
            "grid_row": null,
            "max_height": null,
            "align_content": null,
            "visibility": null,
            "align_self": null,
            "height": null,
            "min_height": null,
            "padding": null,
            "grid_auto_rows": null,
            "grid_gap": null,
            "max_width": null,
            "order": null,
            "_view_module_version": "1.2.0",
            "grid_template_areas": null,
            "object_position": null,
            "object_fit": null,
            "grid_auto_columns": null,
            "margin": null,
            "display": null,
            "left": null
          }
        },
        "1b0a9a465291484499ee77628341dd6d": {
          "model_module": "@jupyter-widgets/controls",
          "model_name": "FloatProgressModel",
          "state": {
            "_view_name": "ProgressView",
            "style": "IPY_MODEL_430ba04c6294484f86adceb570151508",
            "_dom_classes": [],
            "description": "",
            "_model_name": "FloatProgressModel",
            "bar_style": "success",
            "max": 9912422,
            "_view_module": "@jupyter-widgets/controls",
            "_model_module_version": "1.5.0",
            "value": 9912422,
            "_view_count": null,
            "_view_module_version": "1.5.0",
            "orientation": "horizontal",
            "min": 0,
            "description_tooltip": null,
            "_model_module": "@jupyter-widgets/controls",
            "layout": "IPY_MODEL_765a68d1aa0645e2ac5e784b484cb888"
          }
        },
        "679ee23df1b34454a6e0ec0b0fd96a49": {
          "model_module": "@jupyter-widgets/controls",
          "model_name": "HTMLModel",
          "state": {
            "_view_name": "HTMLView",
            "style": "IPY_MODEL_fff30e9aec5b4a158133826dc09c9a48",
            "_dom_classes": [],
            "description": "",
            "_model_name": "HTMLModel",
            "placeholder": "​",
            "_view_module": "@jupyter-widgets/controls",
            "_model_module_version": "1.5.0",
            "value": " 9913344/? [00:23&lt;00:00, 413105.04it/s]",
            "_view_count": null,
            "_view_module_version": "1.5.0",
            "description_tooltip": null,
            "_model_module": "@jupyter-widgets/controls",
            "layout": "IPY_MODEL_0d4507812a81484dafc2bc5479056dbf"
          }
        },
        "430ba04c6294484f86adceb570151508": {
          "model_module": "@jupyter-widgets/controls",
          "model_name": "ProgressStyleModel",
          "state": {
            "_view_name": "StyleView",
            "_model_name": "ProgressStyleModel",
            "description_width": "initial",
            "_view_module": "@jupyter-widgets/base",
            "_model_module_version": "1.5.0",
            "_view_count": null,
            "_view_module_version": "1.2.0",
            "bar_color": null,
            "_model_module": "@jupyter-widgets/controls"
          }
        },
        "765a68d1aa0645e2ac5e784b484cb888": {
          "model_module": "@jupyter-widgets/base",
          "model_name": "LayoutModel",
          "state": {
            "_view_name": "LayoutView",
            "grid_template_rows": null,
            "right": null,
            "justify_content": null,
            "_view_module": "@jupyter-widgets/base",
            "overflow": null,
            "_model_module_version": "1.2.0",
            "_view_count": null,
            "flex_flow": null,
            "width": null,
            "min_width": null,
            "border": null,
            "align_items": null,
            "bottom": null,
            "_model_module": "@jupyter-widgets/base",
            "top": null,
            "grid_column": null,
            "overflow_y": null,
            "overflow_x": null,
            "grid_auto_flow": null,
            "grid_area": null,
            "grid_template_columns": null,
            "flex": null,
            "_model_name": "LayoutModel",
            "justify_items": null,
            "grid_row": null,
            "max_height": null,
            "align_content": null,
            "visibility": null,
            "align_self": null,
            "height": null,
            "min_height": null,
            "padding": null,
            "grid_auto_rows": null,
            "grid_gap": null,
            "max_width": null,
            "order": null,
            "_view_module_version": "1.2.0",
            "grid_template_areas": null,
            "object_position": null,
            "object_fit": null,
            "grid_auto_columns": null,
            "margin": null,
            "display": null,
            "left": null
          }
        },
        "fff30e9aec5b4a158133826dc09c9a48": {
          "model_module": "@jupyter-widgets/controls",
          "model_name": "DescriptionStyleModel",
          "state": {
            "_view_name": "StyleView",
            "_model_name": "DescriptionStyleModel",
            "description_width": "",
            "_view_module": "@jupyter-widgets/base",
            "_model_module_version": "1.5.0",
            "_view_count": null,
            "_view_module_version": "1.2.0",
            "_model_module": "@jupyter-widgets/controls"
          }
        },
        "0d4507812a81484dafc2bc5479056dbf": {
          "model_module": "@jupyter-widgets/base",
          "model_name": "LayoutModel",
          "state": {
            "_view_name": "LayoutView",
            "grid_template_rows": null,
            "right": null,
            "justify_content": null,
            "_view_module": "@jupyter-widgets/base",
            "overflow": null,
            "_model_module_version": "1.2.0",
            "_view_count": null,
            "flex_flow": null,
            "width": null,
            "min_width": null,
            "border": null,
            "align_items": null,
            "bottom": null,
            "_model_module": "@jupyter-widgets/base",
            "top": null,
            "grid_column": null,
            "overflow_y": null,
            "overflow_x": null,
            "grid_auto_flow": null,
            "grid_area": null,
            "grid_template_columns": null,
            "flex": null,
            "_model_name": "LayoutModel",
            "justify_items": null,
            "grid_row": null,
            "max_height": null,
            "align_content": null,
            "visibility": null,
            "align_self": null,
            "height": null,
            "min_height": null,
            "padding": null,
            "grid_auto_rows": null,
            "grid_gap": null,
            "max_width": null,
            "order": null,
            "_view_module_version": "1.2.0",
            "grid_template_areas": null,
            "object_position": null,
            "object_fit": null,
            "grid_auto_columns": null,
            "margin": null,
            "display": null,
            "left": null
          }
        },
        "94b5717df4dd448cb62908607b94f42e": {
          "model_module": "@jupyter-widgets/controls",
          "model_name": "HBoxModel",
          "state": {
            "_view_name": "HBoxView",
            "_dom_classes": [],
            "_model_name": "HBoxModel",
            "_view_module": "@jupyter-widgets/controls",
            "_model_module_version": "1.5.0",
            "_view_count": null,
            "_view_module_version": "1.5.0",
            "box_style": "",
            "layout": "IPY_MODEL_52e909fc205543f6840a92d81440eb9c",
            "_model_module": "@jupyter-widgets/controls",
            "children": [
              "IPY_MODEL_5631a2e918f1436a824bd2b5d3d39b28",
              "IPY_MODEL_7f786b002fa641c8861b5626e7916f46"
            ]
          }
        },
        "52e909fc205543f6840a92d81440eb9c": {
          "model_module": "@jupyter-widgets/base",
          "model_name": "LayoutModel",
          "state": {
            "_view_name": "LayoutView",
            "grid_template_rows": null,
            "right": null,
            "justify_content": null,
            "_view_module": "@jupyter-widgets/base",
            "overflow": null,
            "_model_module_version": "1.2.0",
            "_view_count": null,
            "flex_flow": null,
            "width": null,
            "min_width": null,
            "border": null,
            "align_items": null,
            "bottom": null,
            "_model_module": "@jupyter-widgets/base",
            "top": null,
            "grid_column": null,
            "overflow_y": null,
            "overflow_x": null,
            "grid_auto_flow": null,
            "grid_area": null,
            "grid_template_columns": null,
            "flex": null,
            "_model_name": "LayoutModel",
            "justify_items": null,
            "grid_row": null,
            "max_height": null,
            "align_content": null,
            "visibility": null,
            "align_self": null,
            "height": null,
            "min_height": null,
            "padding": null,
            "grid_auto_rows": null,
            "grid_gap": null,
            "max_width": null,
            "order": null,
            "_view_module_version": "1.2.0",
            "grid_template_areas": null,
            "object_position": null,
            "object_fit": null,
            "grid_auto_columns": null,
            "margin": null,
            "display": null,
            "left": null
          }
        },
        "5631a2e918f1436a824bd2b5d3d39b28": {
          "model_module": "@jupyter-widgets/controls",
          "model_name": "FloatProgressModel",
          "state": {
            "_view_name": "ProgressView",
            "style": "IPY_MODEL_04501496c78f4201abfb750ae362d541",
            "_dom_classes": [],
            "description": "",
            "_model_name": "FloatProgressModel",
            "bar_style": "success",
            "max": 28881,
            "_view_module": "@jupyter-widgets/controls",
            "_model_module_version": "1.5.0",
            "value": 28881,
            "_view_count": null,
            "_view_module_version": "1.5.0",
            "orientation": "horizontal",
            "min": 0,
            "description_tooltip": null,
            "_model_module": "@jupyter-widgets/controls",
            "layout": "IPY_MODEL_0ac0634a567c4956a56e89948d976968"
          }
        },
        "7f786b002fa641c8861b5626e7916f46": {
          "model_module": "@jupyter-widgets/controls",
          "model_name": "HTMLModel",
          "state": {
            "_view_name": "HTMLView",
            "style": "IPY_MODEL_014c4f61eafe4219ac826b3038355c42",
            "_dom_classes": [],
            "description": "",
            "_model_name": "HTMLModel",
            "placeholder": "​",
            "_view_module": "@jupyter-widgets/controls",
            "_model_module_version": "1.5.0",
            "value": " 29696/? [00:00&lt;00:00, 189456.28it/s]",
            "_view_count": null,
            "_view_module_version": "1.5.0",
            "description_tooltip": null,
            "_model_module": "@jupyter-widgets/controls",
            "layout": "IPY_MODEL_50fe1edb1cf44d8aa043417772814774"
          }
        },
        "04501496c78f4201abfb750ae362d541": {
          "model_module": "@jupyter-widgets/controls",
          "model_name": "ProgressStyleModel",
          "state": {
            "_view_name": "StyleView",
            "_model_name": "ProgressStyleModel",
            "description_width": "initial",
            "_view_module": "@jupyter-widgets/base",
            "_model_module_version": "1.5.0",
            "_view_count": null,
            "_view_module_version": "1.2.0",
            "bar_color": null,
            "_model_module": "@jupyter-widgets/controls"
          }
        },
        "0ac0634a567c4956a56e89948d976968": {
          "model_module": "@jupyter-widgets/base",
          "model_name": "LayoutModel",
          "state": {
            "_view_name": "LayoutView",
            "grid_template_rows": null,
            "right": null,
            "justify_content": null,
            "_view_module": "@jupyter-widgets/base",
            "overflow": null,
            "_model_module_version": "1.2.0",
            "_view_count": null,
            "flex_flow": null,
            "width": null,
            "min_width": null,
            "border": null,
            "align_items": null,
            "bottom": null,
            "_model_module": "@jupyter-widgets/base",
            "top": null,
            "grid_column": null,
            "overflow_y": null,
            "overflow_x": null,
            "grid_auto_flow": null,
            "grid_area": null,
            "grid_template_columns": null,
            "flex": null,
            "_model_name": "LayoutModel",
            "justify_items": null,
            "grid_row": null,
            "max_height": null,
            "align_content": null,
            "visibility": null,
            "align_self": null,
            "height": null,
            "min_height": null,
            "padding": null,
            "grid_auto_rows": null,
            "grid_gap": null,
            "max_width": null,
            "order": null,
            "_view_module_version": "1.2.0",
            "grid_template_areas": null,
            "object_position": null,
            "object_fit": null,
            "grid_auto_columns": null,
            "margin": null,
            "display": null,
            "left": null
          }
        },
        "014c4f61eafe4219ac826b3038355c42": {
          "model_module": "@jupyter-widgets/controls",
          "model_name": "DescriptionStyleModel",
          "state": {
            "_view_name": "StyleView",
            "_model_name": "DescriptionStyleModel",
            "description_width": "",
            "_view_module": "@jupyter-widgets/base",
            "_model_module_version": "1.5.0",
            "_view_count": null,
            "_view_module_version": "1.2.0",
            "_model_module": "@jupyter-widgets/controls"
          }
        },
        "50fe1edb1cf44d8aa043417772814774": {
          "model_module": "@jupyter-widgets/base",
          "model_name": "LayoutModel",
          "state": {
            "_view_name": "LayoutView",
            "grid_template_rows": null,
            "right": null,
            "justify_content": null,
            "_view_module": "@jupyter-widgets/base",
            "overflow": null,
            "_model_module_version": "1.2.0",
            "_view_count": null,
            "flex_flow": null,
            "width": null,
            "min_width": null,
            "border": null,
            "align_items": null,
            "bottom": null,
            "_model_module": "@jupyter-widgets/base",
            "top": null,
            "grid_column": null,
            "overflow_y": null,
            "overflow_x": null,
            "grid_auto_flow": null,
            "grid_area": null,
            "grid_template_columns": null,
            "flex": null,
            "_model_name": "LayoutModel",
            "justify_items": null,
            "grid_row": null,
            "max_height": null,
            "align_content": null,
            "visibility": null,
            "align_self": null,
            "height": null,
            "min_height": null,
            "padding": null,
            "grid_auto_rows": null,
            "grid_gap": null,
            "max_width": null,
            "order": null,
            "_view_module_version": "1.2.0",
            "grid_template_areas": null,
            "object_position": null,
            "object_fit": null,
            "grid_auto_columns": null,
            "margin": null,
            "display": null,
            "left": null
          }
        },
        "3b28b3220db24aabb6f7abf806647a2b": {
          "model_module": "@jupyter-widgets/controls",
          "model_name": "HBoxModel",
          "state": {
            "_view_name": "HBoxView",
            "_dom_classes": [],
            "_model_name": "HBoxModel",
            "_view_module": "@jupyter-widgets/controls",
            "_model_module_version": "1.5.0",
            "_view_count": null,
            "_view_module_version": "1.5.0",
            "box_style": "",
            "layout": "IPY_MODEL_5c7818369b9048b79720ca2f0561ebdb",
            "_model_module": "@jupyter-widgets/controls",
            "children": [
              "IPY_MODEL_5af8e6ca413648e18094be2b918b95c5",
              "IPY_MODEL_4908d6ccfa244ed3adbae41d43c6becb"
            ]
          }
        },
        "5c7818369b9048b79720ca2f0561ebdb": {
          "model_module": "@jupyter-widgets/base",
          "model_name": "LayoutModel",
          "state": {
            "_view_name": "LayoutView",
            "grid_template_rows": null,
            "right": null,
            "justify_content": null,
            "_view_module": "@jupyter-widgets/base",
            "overflow": null,
            "_model_module_version": "1.2.0",
            "_view_count": null,
            "flex_flow": null,
            "width": null,
            "min_width": null,
            "border": null,
            "align_items": null,
            "bottom": null,
            "_model_module": "@jupyter-widgets/base",
            "top": null,
            "grid_column": null,
            "overflow_y": null,
            "overflow_x": null,
            "grid_auto_flow": null,
            "grid_area": null,
            "grid_template_columns": null,
            "flex": null,
            "_model_name": "LayoutModel",
            "justify_items": null,
            "grid_row": null,
            "max_height": null,
            "align_content": null,
            "visibility": null,
            "align_self": null,
            "height": null,
            "min_height": null,
            "padding": null,
            "grid_auto_rows": null,
            "grid_gap": null,
            "max_width": null,
            "order": null,
            "_view_module_version": "1.2.0",
            "grid_template_areas": null,
            "object_position": null,
            "object_fit": null,
            "grid_auto_columns": null,
            "margin": null,
            "display": null,
            "left": null
          }
        },
        "5af8e6ca413648e18094be2b918b95c5": {
          "model_module": "@jupyter-widgets/controls",
          "model_name": "FloatProgressModel",
          "state": {
            "_view_name": "ProgressView",
            "style": "IPY_MODEL_6a1dce97b84a4821ac791429ac0c51fa",
            "_dom_classes": [],
            "description": "",
            "_model_name": "FloatProgressModel",
            "bar_style": "success",
            "max": 1648877,
            "_view_module": "@jupyter-widgets/controls",
            "_model_module_version": "1.5.0",
            "value": 1648877,
            "_view_count": null,
            "_view_module_version": "1.5.0",
            "orientation": "horizontal",
            "min": 0,
            "description_tooltip": null,
            "_model_module": "@jupyter-widgets/controls",
            "layout": "IPY_MODEL_444e903bd5024c32bc902fbc70169646"
          }
        },
        "4908d6ccfa244ed3adbae41d43c6becb": {
          "model_module": "@jupyter-widgets/controls",
          "model_name": "HTMLModel",
          "state": {
            "_view_name": "HTMLView",
            "style": "IPY_MODEL_be2855fda5df4c0aa85659254f406ed8",
            "_dom_classes": [],
            "description": "",
            "_model_name": "HTMLModel",
            "placeholder": "​",
            "_view_module": "@jupyter-widgets/controls",
            "_model_module_version": "1.5.0",
            "value": " 1649664/? [00:03&lt;00:00, 434694.66it/s]",
            "_view_count": null,
            "_view_module_version": "1.5.0",
            "description_tooltip": null,
            "_model_module": "@jupyter-widgets/controls",
            "layout": "IPY_MODEL_395a8d072a86467295da546fb825c234"
          }
        },
        "6a1dce97b84a4821ac791429ac0c51fa": {
          "model_module": "@jupyter-widgets/controls",
          "model_name": "ProgressStyleModel",
          "state": {
            "_view_name": "StyleView",
            "_model_name": "ProgressStyleModel",
            "description_width": "initial",
            "_view_module": "@jupyter-widgets/base",
            "_model_module_version": "1.5.0",
            "_view_count": null,
            "_view_module_version": "1.2.0",
            "bar_color": null,
            "_model_module": "@jupyter-widgets/controls"
          }
        },
        "444e903bd5024c32bc902fbc70169646": {
          "model_module": "@jupyter-widgets/base",
          "model_name": "LayoutModel",
          "state": {
            "_view_name": "LayoutView",
            "grid_template_rows": null,
            "right": null,
            "justify_content": null,
            "_view_module": "@jupyter-widgets/base",
            "overflow": null,
            "_model_module_version": "1.2.0",
            "_view_count": null,
            "flex_flow": null,
            "width": null,
            "min_width": null,
            "border": null,
            "align_items": null,
            "bottom": null,
            "_model_module": "@jupyter-widgets/base",
            "top": null,
            "grid_column": null,
            "overflow_y": null,
            "overflow_x": null,
            "grid_auto_flow": null,
            "grid_area": null,
            "grid_template_columns": null,
            "flex": null,
            "_model_name": "LayoutModel",
            "justify_items": null,
            "grid_row": null,
            "max_height": null,
            "align_content": null,
            "visibility": null,
            "align_self": null,
            "height": null,
            "min_height": null,
            "padding": null,
            "grid_auto_rows": null,
            "grid_gap": null,
            "max_width": null,
            "order": null,
            "_view_module_version": "1.2.0",
            "grid_template_areas": null,
            "object_position": null,
            "object_fit": null,
            "grid_auto_columns": null,
            "margin": null,
            "display": null,
            "left": null
          }
        },
        "be2855fda5df4c0aa85659254f406ed8": {
          "model_module": "@jupyter-widgets/controls",
          "model_name": "DescriptionStyleModel",
          "state": {
            "_view_name": "StyleView",
            "_model_name": "DescriptionStyleModel",
            "description_width": "",
            "_view_module": "@jupyter-widgets/base",
            "_model_module_version": "1.5.0",
            "_view_count": null,
            "_view_module_version": "1.2.0",
            "_model_module": "@jupyter-widgets/controls"
          }
        },
        "395a8d072a86467295da546fb825c234": {
          "model_module": "@jupyter-widgets/base",
          "model_name": "LayoutModel",
          "state": {
            "_view_name": "LayoutView",
            "grid_template_rows": null,
            "right": null,
            "justify_content": null,
            "_view_module": "@jupyter-widgets/base",
            "overflow": null,
            "_model_module_version": "1.2.0",
            "_view_count": null,
            "flex_flow": null,
            "width": null,
            "min_width": null,
            "border": null,
            "align_items": null,
            "bottom": null,
            "_model_module": "@jupyter-widgets/base",
            "top": null,
            "grid_column": null,
            "overflow_y": null,
            "overflow_x": null,
            "grid_auto_flow": null,
            "grid_area": null,
            "grid_template_columns": null,
            "flex": null,
            "_model_name": "LayoutModel",
            "justify_items": null,
            "grid_row": null,
            "max_height": null,
            "align_content": null,
            "visibility": null,
            "align_self": null,
            "height": null,
            "min_height": null,
            "padding": null,
            "grid_auto_rows": null,
            "grid_gap": null,
            "max_width": null,
            "order": null,
            "_view_module_version": "1.2.0",
            "grid_template_areas": null,
            "object_position": null,
            "object_fit": null,
            "grid_auto_columns": null,
            "margin": null,
            "display": null,
            "left": null
          }
        },
        "be08787f4b944bc6bbb772565c50fd21": {
          "model_module": "@jupyter-widgets/controls",
          "model_name": "HBoxModel",
          "state": {
            "_view_name": "HBoxView",
            "_dom_classes": [],
            "_model_name": "HBoxModel",
            "_view_module": "@jupyter-widgets/controls",
            "_model_module_version": "1.5.0",
            "_view_count": null,
            "_view_module_version": "1.5.0",
            "box_style": "",
            "layout": "IPY_MODEL_811aff2a6c12416b929f1a3bd02dec4a",
            "_model_module": "@jupyter-widgets/controls",
            "children": [
              "IPY_MODEL_f4dd3528236a41b18cab85b534f918e5",
              "IPY_MODEL_c8d38ec7be4d4f75b9cc589d7e799699"
            ]
          }
        },
        "811aff2a6c12416b929f1a3bd02dec4a": {
          "model_module": "@jupyter-widgets/base",
          "model_name": "LayoutModel",
          "state": {
            "_view_name": "LayoutView",
            "grid_template_rows": null,
            "right": null,
            "justify_content": null,
            "_view_module": "@jupyter-widgets/base",
            "overflow": null,
            "_model_module_version": "1.2.0",
            "_view_count": null,
            "flex_flow": null,
            "width": null,
            "min_width": null,
            "border": null,
            "align_items": null,
            "bottom": null,
            "_model_module": "@jupyter-widgets/base",
            "top": null,
            "grid_column": null,
            "overflow_y": null,
            "overflow_x": null,
            "grid_auto_flow": null,
            "grid_area": null,
            "grid_template_columns": null,
            "flex": null,
            "_model_name": "LayoutModel",
            "justify_items": null,
            "grid_row": null,
            "max_height": null,
            "align_content": null,
            "visibility": null,
            "align_self": null,
            "height": null,
            "min_height": null,
            "padding": null,
            "grid_auto_rows": null,
            "grid_gap": null,
            "max_width": null,
            "order": null,
            "_view_module_version": "1.2.0",
            "grid_template_areas": null,
            "object_position": null,
            "object_fit": null,
            "grid_auto_columns": null,
            "margin": null,
            "display": null,
            "left": null
          }
        },
        "f4dd3528236a41b18cab85b534f918e5": {
          "model_module": "@jupyter-widgets/controls",
          "model_name": "FloatProgressModel",
          "state": {
            "_view_name": "ProgressView",
            "style": "IPY_MODEL_1d38ee8636bf46dcb638df1541c7b6ac",
            "_dom_classes": [],
            "description": "",
            "_model_name": "FloatProgressModel",
            "bar_style": "success",
            "max": 4542,
            "_view_module": "@jupyter-widgets/controls",
            "_model_module_version": "1.5.0",
            "value": 4542,
            "_view_count": null,
            "_view_module_version": "1.5.0",
            "orientation": "horizontal",
            "min": 0,
            "description_tooltip": null,
            "_model_module": "@jupyter-widgets/controls",
            "layout": "IPY_MODEL_f8333fe9daae4a55beac7541063bd491"
          }
        },
        "c8d38ec7be4d4f75b9cc589d7e799699": {
          "model_module": "@jupyter-widgets/controls",
          "model_name": "HTMLModel",
          "state": {
            "_view_name": "HTMLView",
            "style": "IPY_MODEL_d27eb1705d15405c8085bd9cb28bbb69",
            "_dom_classes": [],
            "description": "",
            "_model_name": "HTMLModel",
            "placeholder": "​",
            "_view_module": "@jupyter-widgets/controls",
            "_model_module_version": "1.5.0",
            "value": " 5120/? [00:00&lt;00:00, 14511.16it/s]",
            "_view_count": null,
            "_view_module_version": "1.5.0",
            "description_tooltip": null,
            "_model_module": "@jupyter-widgets/controls",
            "layout": "IPY_MODEL_2107e2d6a69e4b68b0f583113fea7899"
          }
        },
        "1d38ee8636bf46dcb638df1541c7b6ac": {
          "model_module": "@jupyter-widgets/controls",
          "model_name": "ProgressStyleModel",
          "state": {
            "_view_name": "StyleView",
            "_model_name": "ProgressStyleModel",
            "description_width": "initial",
            "_view_module": "@jupyter-widgets/base",
            "_model_module_version": "1.5.0",
            "_view_count": null,
            "_view_module_version": "1.2.0",
            "bar_color": null,
            "_model_module": "@jupyter-widgets/controls"
          }
        },
        "f8333fe9daae4a55beac7541063bd491": {
          "model_module": "@jupyter-widgets/base",
          "model_name": "LayoutModel",
          "state": {
            "_view_name": "LayoutView",
            "grid_template_rows": null,
            "right": null,
            "justify_content": null,
            "_view_module": "@jupyter-widgets/base",
            "overflow": null,
            "_model_module_version": "1.2.0",
            "_view_count": null,
            "flex_flow": null,
            "width": null,
            "min_width": null,
            "border": null,
            "align_items": null,
            "bottom": null,
            "_model_module": "@jupyter-widgets/base",
            "top": null,
            "grid_column": null,
            "overflow_y": null,
            "overflow_x": null,
            "grid_auto_flow": null,
            "grid_area": null,
            "grid_template_columns": null,
            "flex": null,
            "_model_name": "LayoutModel",
            "justify_items": null,
            "grid_row": null,
            "max_height": null,
            "align_content": null,
            "visibility": null,
            "align_self": null,
            "height": null,
            "min_height": null,
            "padding": null,
            "grid_auto_rows": null,
            "grid_gap": null,
            "max_width": null,
            "order": null,
            "_view_module_version": "1.2.0",
            "grid_template_areas": null,
            "object_position": null,
            "object_fit": null,
            "grid_auto_columns": null,
            "margin": null,
            "display": null,
            "left": null
          }
        },
        "d27eb1705d15405c8085bd9cb28bbb69": {
          "model_module": "@jupyter-widgets/controls",
          "model_name": "DescriptionStyleModel",
          "state": {
            "_view_name": "StyleView",
            "_model_name": "DescriptionStyleModel",
            "description_width": "",
            "_view_module": "@jupyter-widgets/base",
            "_model_module_version": "1.5.0",
            "_view_count": null,
            "_view_module_version": "1.2.0",
            "_model_module": "@jupyter-widgets/controls"
          }
        },
        "2107e2d6a69e4b68b0f583113fea7899": {
          "model_module": "@jupyter-widgets/base",
          "model_name": "LayoutModel",
          "state": {
            "_view_name": "LayoutView",
            "grid_template_rows": null,
            "right": null,
            "justify_content": null,
            "_view_module": "@jupyter-widgets/base",
            "overflow": null,
            "_model_module_version": "1.2.0",
            "_view_count": null,
            "flex_flow": null,
            "width": null,
            "min_width": null,
            "border": null,
            "align_items": null,
            "bottom": null,
            "_model_module": "@jupyter-widgets/base",
            "top": null,
            "grid_column": null,
            "overflow_y": null,
            "overflow_x": null,
            "grid_auto_flow": null,
            "grid_area": null,
            "grid_template_columns": null,
            "flex": null,
            "_model_name": "LayoutModel",
            "justify_items": null,
            "grid_row": null,
            "max_height": null,
            "align_content": null,
            "visibility": null,
            "align_self": null,
            "height": null,
            "min_height": null,
            "padding": null,
            "grid_auto_rows": null,
            "grid_gap": null,
            "max_width": null,
            "order": null,
            "_view_module_version": "1.2.0",
            "grid_template_areas": null,
            "object_position": null,
            "object_fit": null,
            "grid_auto_columns": null,
            "margin": null,
            "display": null,
            "left": null
          }
        }
      }
    }
  },
  "cells": [
    {
      "cell_type": "code",
      "metadata": {
        "id": "rrUI4NQUoeRQ"
      },
      "source": [
        "# Importing the required Modules\n",
        "\n",
        "import numpy as np\n",
        "import torch\n",
        "from torch import  nn\n",
        "import torch.nn.functional as F\n",
        "from torchvision import datasets, transforms\n",
        "from torch import optim"
      ],
      "execution_count": 1,
      "outputs": []
    },
    {
      "cell_type": "code",
      "metadata": {
        "id": "qNrBjTwkpMTB"
      },
      "source": [
        "# List of Tranforms to be applied on the Training Set\n",
        "# Some of the Training Images will be randomly flipped Vertically and Horizontally so as to make it diffcult for the model to remember the training examples and in turn forcing it to generalize  \n",
        "transforms_tr = transforms.Compose([transforms.ToTensor(), transforms.RandomHorizontalFlip(), transforms.RandomVerticalFlip()]) \n",
        "\n",
        "# Converting the test set to a Tensor\n",
        "transforms_te = transforms.Compose([transforms.ToTensor()]) "
      ],
      "execution_count": 2,
      "outputs": []
    },
    {
      "cell_type": "code",
      "metadata": {
        "colab": {
          "base_uri": "https://localhost:8080/",
          "height": 601,
          "referenced_widgets": [
            "cd674e18da864b02a4fea0e819d26386",
            "35ca2742816342169e29499150ff71d1",
            "1b0a9a465291484499ee77628341dd6d",
            "679ee23df1b34454a6e0ec0b0fd96a49",
            "430ba04c6294484f86adceb570151508",
            "765a68d1aa0645e2ac5e784b484cb888",
            "fff30e9aec5b4a158133826dc09c9a48",
            "0d4507812a81484dafc2bc5479056dbf",
            "94b5717df4dd448cb62908607b94f42e",
            "52e909fc205543f6840a92d81440eb9c",
            "5631a2e918f1436a824bd2b5d3d39b28",
            "7f786b002fa641c8861b5626e7916f46",
            "04501496c78f4201abfb750ae362d541",
            "0ac0634a567c4956a56e89948d976968",
            "014c4f61eafe4219ac826b3038355c42",
            "50fe1edb1cf44d8aa043417772814774",
            "3b28b3220db24aabb6f7abf806647a2b",
            "5c7818369b9048b79720ca2f0561ebdb",
            "5af8e6ca413648e18094be2b918b95c5",
            "4908d6ccfa244ed3adbae41d43c6becb",
            "6a1dce97b84a4821ac791429ac0c51fa",
            "444e903bd5024c32bc902fbc70169646",
            "be2855fda5df4c0aa85659254f406ed8",
            "395a8d072a86467295da546fb825c234",
            "be08787f4b944bc6bbb772565c50fd21",
            "811aff2a6c12416b929f1a3bd02dec4a",
            "f4dd3528236a41b18cab85b534f918e5",
            "c8d38ec7be4d4f75b9cc589d7e799699",
            "1d38ee8636bf46dcb638df1541c7b6ac",
            "f8333fe9daae4a55beac7541063bd491",
            "d27eb1705d15405c8085bd9cb28bbb69",
            "2107e2d6a69e4b68b0f583113fea7899"
          ]
        },
        "id": "26Aa-UOFoxMJ",
        "outputId": "313f31f9-c880-4f91-b457-5422127d21e3"
      },
      "source": [
        "# Importing the datasets for both training and testing\n",
        "# MNIST is already provided by PyTorch\n",
        "\n",
        "trainset = datasets.MNIST('/data', train=True, download=True, transform=transforms_tr)\n",
        "testset = datasets.MNIST('/data', train=False, download=True, transform=transforms_te)"
      ],
      "execution_count": 3,
      "outputs": [
        {
          "output_type": "stream",
          "text": [
            "Downloading http://yann.lecun.com/exdb/mnist/train-images-idx3-ubyte.gz\n",
            "Downloading http://yann.lecun.com/exdb/mnist/train-images-idx3-ubyte.gz to /data/MNIST/raw/train-images-idx3-ubyte.gz\n"
          ],
          "name": "stdout"
        },
        {
          "output_type": "display_data",
          "data": {
            "application/vnd.jupyter.widget-view+json": {
              "model_id": "cd674e18da864b02a4fea0e819d26386",
              "version_minor": 0,
              "version_major": 2
            },
            "text/plain": [
              "HBox(children=(FloatProgress(value=0.0, max=9912422.0), HTML(value='')))"
            ]
          },
          "metadata": {
            "tags": []
          }
        },
        {
          "output_type": "stream",
          "text": [
            "\n",
            "Extracting /data/MNIST/raw/train-images-idx3-ubyte.gz to /data/MNIST/raw\n",
            "\n",
            "Downloading http://yann.lecun.com/exdb/mnist/train-labels-idx1-ubyte.gz\n",
            "Downloading http://yann.lecun.com/exdb/mnist/train-labels-idx1-ubyte.gz to /data/MNIST/raw/train-labels-idx1-ubyte.gz\n"
          ],
          "name": "stdout"
        },
        {
          "output_type": "display_data",
          "data": {
            "application/vnd.jupyter.widget-view+json": {
              "model_id": "94b5717df4dd448cb62908607b94f42e",
              "version_minor": 0,
              "version_major": 2
            },
            "text/plain": [
              "HBox(children=(FloatProgress(value=0.0, max=28881.0), HTML(value='')))"
            ]
          },
          "metadata": {
            "tags": []
          }
        },
        {
          "output_type": "stream",
          "text": [
            "\n",
            "Extracting /data/MNIST/raw/train-labels-idx1-ubyte.gz to /data/MNIST/raw\n",
            "\n",
            "Downloading http://yann.lecun.com/exdb/mnist/t10k-images-idx3-ubyte.gz\n",
            "Downloading http://yann.lecun.com/exdb/mnist/t10k-images-idx3-ubyte.gz to /data/MNIST/raw/t10k-images-idx3-ubyte.gz\n"
          ],
          "name": "stdout"
        },
        {
          "output_type": "display_data",
          "data": {
            "application/vnd.jupyter.widget-view+json": {
              "model_id": "3b28b3220db24aabb6f7abf806647a2b",
              "version_minor": 0,
              "version_major": 2
            },
            "text/plain": [
              "HBox(children=(FloatProgress(value=0.0, max=1648877.0), HTML(value='')))"
            ]
          },
          "metadata": {
            "tags": []
          }
        },
        {
          "output_type": "stream",
          "text": [
            "\n",
            "Extracting /data/MNIST/raw/t10k-images-idx3-ubyte.gz to /data/MNIST/raw\n",
            "\n",
            "Downloading http://yann.lecun.com/exdb/mnist/t10k-labels-idx1-ubyte.gz\n",
            "Downloading http://yann.lecun.com/exdb/mnist/t10k-labels-idx1-ubyte.gz to /data/MNIST/raw/t10k-labels-idx1-ubyte.gz\n"
          ],
          "name": "stdout"
        },
        {
          "output_type": "display_data",
          "data": {
            "application/vnd.jupyter.widget-view+json": {
              "model_id": "be08787f4b944bc6bbb772565c50fd21",
              "version_minor": 0,
              "version_major": 2
            },
            "text/plain": [
              "HBox(children=(FloatProgress(value=0.0, max=4542.0), HTML(value='')))"
            ]
          },
          "metadata": {
            "tags": []
          }
        },
        {
          "output_type": "stream",
          "text": [
            "\n",
            "Extracting /data/MNIST/raw/t10k-labels-idx1-ubyte.gz to /data/MNIST/raw\n",
            "\n",
            "Processing...\n",
            "Done!\n"
          ],
          "name": "stdout"
        },
        {
          "output_type": "stream",
          "text": [
            "/usr/local/lib/python3.7/dist-packages/torchvision/datasets/mnist.py:502: UserWarning: The given NumPy array is not writeable, and PyTorch does not support non-writeable tensors. This means you can write to the underlying (supposedly non-writeable) NumPy array using the tensor. You may want to copy the array to protect its data or make it writeable before converting it to a tensor. This type of warning will be suppressed for the rest of this program. (Triggered internally at  /pytorch/torch/csrc/utils/tensor_numpy.cpp:143.)\n",
            "  return torch.from_numpy(parsed.astype(m[2], copy=False)).view(*s)\n"
          ],
          "name": "stderr"
        }
      ]
    },
    {
      "cell_type": "code",
      "metadata": {
        "id": "G0uLv1Aap78e"
      },
      "source": [
        "import random\n",
        "\n",
        "# Defining the validation dataset percentage. Here 20%\n",
        "valid_pct = 0.2\n",
        "\n",
        "# Generating a list of indices of the length of the training set and shuffling them \n",
        "indices = [i for i in range(len(trainset))]\n",
        "random.shuffle(indices)\n",
        "\n",
        "# Splitting the indices into training and validation \n",
        "idx = int(valid_pct * len(trainset))\n",
        "valid_idx, train_idx = indices[:idx], indices[idx :]"
      ],
      "execution_count": 4,
      "outputs": []
    },
    {
      "cell_type": "code",
      "metadata": {
        "id": "U6M1ujZbrxNt"
      },
      "source": [
        "# Randomly samples from the training indices\n",
        "train_sampler = torch.utils.data.SubsetRandomSampler(train_idx)\n",
        "\n",
        "# Randomly samples from the validation indices\n",
        "valid_sampler = torch.utils.data.SubsetRandomSampler(valid_idx)"
      ],
      "execution_count": 5,
      "outputs": []
    },
    {
      "cell_type": "code",
      "metadata": {
        "id": "GEa9f-V4s70j"
      },
      "source": [
        "# Using PyTorch's custom Data Loader to load the training, validation and test test\n",
        "# Batch Size = 32\n",
        "\n",
        "train_loader = torch.utils.data.DataLoader(trainset, batch_size = 32, sampler = train_sampler)\n",
        "valid_loader = torch.utils.data.DataLoader(trainset, batch_size = 32, sampler = valid_sampler)\n",
        "test_loader = torch.utils.data.DataLoader(testset, batch_size = 32 )"
      ],
      "execution_count": 6,
      "outputs": []
    },
    {
      "cell_type": "markdown",
      "metadata": {
        "id": "Jp9UFxb7tbR1"
      },
      "source": [
        "### Visualizing the Digits"
      ]
    },
    {
      "cell_type": "code",
      "metadata": {
        "id": "AhQBKZbythy8"
      },
      "source": [
        "import matplotlib.pyplot as plt\n",
        "\n",
        "% matplotlib inline"
      ],
      "execution_count": 7,
      "outputs": []
    },
    {
      "cell_type": "code",
      "metadata": {
        "id": "APTWLIA5utwu"
      },
      "source": [
        "# Creating a classes list to label each each output\n",
        "classes = [str(i) for i in range(10)]"
      ],
      "execution_count": 8,
      "outputs": []
    },
    {
      "cell_type": "code",
      "metadata": {
        "colab": {
          "base_uri": "https://localhost:8080/",
          "height": 729
        },
        "id": "CcsNcsy0tpel",
        "outputId": "3aa73563-bc24-45ef-f115-7aeaaf362066"
      },
      "source": [
        "# Loading a set of images and labels from train loader\n",
        "images, labels = next(iter(train_loader))\n",
        "fig = plt.figure(figsize=(25,10))\n",
        "\n",
        "# Printing the Images along with their Labels\n",
        "for idx in np.arange(20):\n",
        "  ax = fig.add_subplot(5, 4, idx+1, xticks = [], yticks = [])\n",
        "  plt.imshow(images[idx].numpy().squeeze())\n",
        "  ax.set_title(classes[labels[idx]])\n",
        "  fig.tight_layout()"
      ],
      "execution_count": 9,
      "outputs": [
        {
          "output_type": "display_data",
          "data": {
            "image/png": "[encoded data removed]",
            "text/plain": [
              "<Figure size 1800x720 with 20 Axes>"
            ]
          },
          "metadata": {
            "tags": []
          }
        }
      ]
    },
    {
      "cell_type": "markdown",
      "metadata": {
        "id": "0oVuLV3guHzt"
      },
      "source": [
        "### Defining the Model"
      ]
    },
    {
      "cell_type": "markdown",
      "metadata": {
        "id": "vqkZTjPtiGeY"
      },
      "source": [
        "I will be using a Fully Connected 5 layer Neural Network to train the model. This model will also include some dropout layers with probability 0.2 to prevent overfitting of the model\n",
        "\n",
        "The activation function for the first four fully connected layers will be ReLu or the rectified linear activation function. \n",
        "\n",
        "The final layer will have the LogSoftmax activation function. Hence the predictions will be Logits and we will have to take exponential to get actual class probabilities\n"
      ]
    },
    {
      "cell_type": "code",
      "metadata": {
        "id": "rHHJwenIwFUD"
      },
      "source": [
        "# Building a Fully Connected Neural Network with 5 Layers\n",
        "\n",
        "class Network(nn.Module):\n",
        "\n",
        "  def __init__(self):\n",
        "    '''\n",
        "    The init function is where you define the layers of the model\n",
        "    \n",
        "    self.fc1 ---> Takes the 28*28 by input image as a vector and has 1024 output units\n",
        "    self.fc2 ---> Takes 1024 input units and 1024 output units\n",
        "    self.fc3 ---> Takes 1024 input units and 1024 output units\n",
        "    self.fc4 ---> Takes 1024 input units and 1024 output units\n",
        "    self.fc5 ---> Takes 1024 input units and 10 output units, each for one class (0-9)\n",
        "    \n",
        "    '''    \n",
        "    super().__init__()\n",
        "\n",
        "    self.fc1 = nn.Linear(28*28, 1024)\n",
        "    self.fc2 = nn.Linear(1024, 1024)\n",
        "    self.fc3 = nn.Linear(1024, 1024)\n",
        "    self.fc4 = nn.Linear(1024, 1024)\n",
        "    self.fc5 = nn.Linear(1024, 10)\n",
        "\n",
        "    self.dropout = nn.Dropout(p = 0.2)\n",
        "\n",
        "  def forward(self, x):\n",
        "    \n",
        "    '''\n",
        "    Function to actually train the model\n",
        "    x - input image which will pass through all the layers defined in the model and some dropout layers \n",
        "    '''\n",
        "    x = x.view(-1, 28*28)\n",
        "\n",
        "    x = F.relu(self.fc1(x))\n",
        "    x = self.dropout(x)\n",
        "    x = F.relu(self.fc2(x))\n",
        "    x = self.dropout(x)\n",
        "    x = F.relu(self.fc3(x))\n",
        "    x = self.dropout(x)\n",
        "    x = F.relu(self.fc4(x))\n",
        "    x = self.dropout(x)\n",
        "    x = F.log_softmax(self.fc5(x), dim = 1)\n",
        "\n",
        "    return x\n"
      ],
      "execution_count": 10,
      "outputs": []
    },
    {
      "cell_type": "code",
      "metadata": {
        "colab": {
          "base_uri": "https://localhost:8080/"
        },
        "id": "4Jlnzr4WyFHu",
        "outputId": "16098c4f-688c-4f11-a5d1-5de5e6fd6479"
      },
      "source": [
        "from torchsummary import summary\n",
        "\n",
        "# Creating an object of the Network class\n",
        "\n",
        "model = Network().cuda()\n",
        "\n",
        "# Displaying the model summary \n",
        "\n",
        "summary(model, images.shape)"
      ],
      "execution_count": 11,
      "outputs": [
        {
          "output_type": "stream",
          "text": [
            "----------------------------------------------------------------\n",
            "        Layer (type)               Output Shape         Param #\n",
            "================================================================\n",
            "            Linear-1                 [-1, 1024]         803,840\n",
            "           Dropout-2                 [-1, 1024]               0\n",
            "            Linear-3                 [-1, 1024]       1,049,600\n",
            "           Dropout-4                 [-1, 1024]               0\n",
            "            Linear-5                 [-1, 1024]       1,049,600\n",
            "           Dropout-6                 [-1, 1024]               0\n",
            "            Linear-7                 [-1, 1024]       1,049,600\n",
            "           Dropout-8                 [-1, 1024]               0\n",
            "            Linear-9                   [-1, 10]          10,250\n",
            "================================================================\n",
            "Total params: 3,962,890\n",
            "Trainable params: 3,962,890\n",
            "Non-trainable params: 0\n",
            "----------------------------------------------------------------\n",
            "Input size (MB): 0.10\n",
            "Forward/backward pass size (MB): 0.06\n",
            "Params size (MB): 15.12\n",
            "Estimated Total Size (MB): 15.28\n",
            "----------------------------------------------------------------\n"
          ],
          "name": "stdout"
        }
      ]
    },
    {
      "cell_type": "markdown",
      "metadata": {
        "id": "rbq68-ZoyMw0"
      },
      "source": [
        "### Training the Model"
      ]
    },
    {
      "cell_type": "code",
      "metadata": {
        "id": "VRSVwj-7jukR"
      },
      "source": [
        "I will be using the negative log likelihood loss which will be minimized using the Adam Optimizer."
      ],
      "execution_count": null,
      "outputs": []
    },
    {
      "cell_type": "code",
      "metadata": {
        "id": "3Sr--a-N1fRc"
      },
      "source": [
        "# The loss function, optimizer and learning rate are defined\n",
        "\n",
        "criterion = nn.NLLLoss()\n",
        "optimizer = optim.Adam(model.parameters(), lr = 0.01)"
      ],
      "execution_count": 12,
      "outputs": []
    },
    {
      "cell_type": "code",
      "metadata": {
        "colab": {
          "base_uri": "https://localhost:8080/"
        },
        "id": "0xrfkZdK-J-p",
        "outputId": "1720876f-354a-4dbf-ba19-eb293841d947"
      },
      "source": [
        "# Checking if GPU is available\n",
        "device = torch.device(\"cuda\" if torch.cuda.is_available() else \"cpu\")\n",
        "device"
      ],
      "execution_count": 13,
      "outputs": [
        {
          "output_type": "execute_result",
          "data": {
            "text/plain": [
              "device(type='cuda')"
            ]
          },
          "metadata": {
            "tags": []
          },
          "execution_count": 13
        }
      ]
    },
    {
      "cell_type": "code",
      "metadata": {
        "colab": {
          "base_uri": "https://localhost:8080/"
        },
        "id": "w8sKEXm82tDq",
        "outputId": "a7e1a92d-a798-4e8a-8cbd-bfacff0a7bde"
      },
      "source": [
        "# Defining the number of Eopchs and training the model on Training and Validation Set\n",
        "epochs = 60\n",
        "\n",
        "\n",
        "valid_loss_min = float(\"inf\")\n",
        "    \n",
        "for iterations in range(epochs):\n",
        "\n",
        "    train_loss = 0\n",
        "    validation_loss = 0\n",
        "    \n",
        "    \n",
        "    # Training the model\n",
        "    model.train()\n",
        "    for images, labels in train_loader:\n",
        "        \n",
        "        # Moving the tensors to GPU\n",
        "        images = images.to(device)\n",
        "        labels = labels.to(device)\n",
        "        \n",
        "        # Clearing the gradient so previous one doesn't accumulate\n",
        "        optimizer.zero_grad()\n",
        "        \n",
        "        # Making the predictions, checking the loss and updating the parameters uing Back Propagation \n",
        "        preds = model(images)\n",
        "        loss = criterion(preds, labels)\n",
        "        loss.backward()\n",
        "        optimizer.step()\n",
        "        \n",
        "        # Updating the training loss \n",
        "        train_loss += loss.item()*images.size(0)\n",
        "        \n",
        "        \n",
        "    \n",
        "    # Validating the model\n",
        "    model.eval()\n",
        "    for images_v, labels_v in valid_loader:\n",
        "\n",
        "        # Moving the tensors to GPU\n",
        "        images_v = images_v.to(device)\n",
        "        labels_v = labels_v.to(device)            \n",
        "        \n",
        "\n",
        "         # Making the predictions, checking the loss\n",
        "        preds_v = (model.forward(images_v))\n",
        "        loss = criterion(preds_v, labels_v)\n",
        "        validation_loss += loss.item() * images_v.size(0)\n",
        "    \n",
        "    # Average Loss:\n",
        "    train_loss = train_loss/ len(train_loader.sampler)\n",
        "    validation_loss = validation_loss/ len(valid_loader.sampler)\n",
        "        \n",
        "\n",
        "    # Printing the Training and Validation Loss\n",
        "    print('Epoch: {} \\tTraining Loss: {:.6f} \\tValidation Loss: {:.6f}'.format(\n",
        "        iterations, train_loss, validation_loss))\n",
        "        \n",
        "    # Saving the model if Validation Loss has decreased\n",
        "    \n",
        "    if validation_loss < valid_loss_min:\n",
        "        print('Validation loss decreased ({:.6f} --> {:.6f}).  Saving model ...'.format(\n",
        "        valid_loss_min,\n",
        "        validation_loss))\n",
        "        torch.save(model.state_dict(), \"MNIST_fc.pt\")\n",
        "        valid_loss_min = validation_loss"
      ],
      "execution_count": 14,
      "outputs": [
        {
          "output_type": "stream",
          "text": [
            "Epoch: 0 \tTraining Loss: 0.641613 \tValidation Loss: 0.273098\n",
            "Validation loss decreased (inf --> 0.273098).  Saving model ...\n",
            "Epoch: 1 \tTraining Loss: 0.286537 \tValidation Loss: 0.208201\n",
            "Validation loss decreased (0.273098 --> 0.208201).  Saving model ...\n",
            "Epoch: 2 \tTraining Loss: 0.227651 \tValidation Loss: 0.185536\n",
            "Validation loss decreased (0.208201 --> 0.185536).  Saving model ...\n",
            "Epoch: 3 \tTraining Loss: 0.196897 \tValidation Loss: 0.155646\n",
            "Validation loss decreased (0.185536 --> 0.155646).  Saving model ...\n",
            "Epoch: 4 \tTraining Loss: 0.171863 \tValidation Loss: 0.146245\n",
            "Validation loss decreased (0.155646 --> 0.146245).  Saving model ...\n",
            "Epoch: 5 \tTraining Loss: 0.155139 \tValidation Loss: 0.133780\n",
            "Validation loss decreased (0.146245 --> 0.133780).  Saving model ...\n",
            "Epoch: 6 \tTraining Loss: 0.143219 \tValidation Loss: 0.125557\n",
            "Validation loss decreased (0.133780 --> 0.125557).  Saving model ...\n",
            "Epoch: 7 \tTraining Loss: 0.133042 \tValidation Loss: 0.124755\n",
            "Validation loss decreased (0.125557 --> 0.124755).  Saving model ...\n",
            "Epoch: 8 \tTraining Loss: 0.126743 \tValidation Loss: 0.115788\n",
            "Validation loss decreased (0.124755 --> 0.115788).  Saving model ...\n",
            "Epoch: 9 \tTraining Loss: 0.117054 \tValidation Loss: 0.112239\n",
            "Validation loss decreased (0.115788 --> 0.112239).  Saving model ...\n",
            "Epoch: 10 \tTraining Loss: 0.105451 \tValidation Loss: 0.106804\n",
            "Validation loss decreased (0.112239 --> 0.106804).  Saving model ...\n",
            "Epoch: 11 \tTraining Loss: 0.103540 \tValidation Loss: 0.106184\n",
            "Validation loss decreased (0.106804 --> 0.106184).  Saving model ...\n",
            "Epoch: 12 \tTraining Loss: 0.097450 \tValidation Loss: 0.104375\n",
            "Validation loss decreased (0.106184 --> 0.104375).  Saving model ...\n",
            "Epoch: 13 \tTraining Loss: 0.093563 \tValidation Loss: 0.103609\n",
            "Validation loss decreased (0.104375 --> 0.103609).  Saving model ...\n",
            "Epoch: 14 \tTraining Loss: 0.087239 \tValidation Loss: 0.098988\n",
            "Validation loss decreased (0.103609 --> 0.098988).  Saving model ...\n",
            "Epoch: 15 \tTraining Loss: 0.082615 \tValidation Loss: 0.097465\n",
            "Validation loss decreased (0.098988 --> 0.097465).  Saving model ...\n",
            "Epoch: 16 \tTraining Loss: 0.081966 \tValidation Loss: 0.098347\n",
            "Epoch: 17 \tTraining Loss: 0.075486 \tValidation Loss: 0.093077\n",
            "Validation loss decreased (0.097465 --> 0.093077).  Saving model ...\n",
            "Epoch: 18 \tTraining Loss: 0.073471 \tValidation Loss: 0.092795\n",
            "Validation loss decreased (0.093077 --> 0.092795).  Saving model ...\n",
            "Epoch: 19 \tTraining Loss: 0.072674 \tValidation Loss: 0.093313\n",
            "Epoch: 20 \tTraining Loss: 0.067143 \tValidation Loss: 0.091258\n",
            "Validation loss decreased (0.092795 --> 0.091258).  Saving model ...\n",
            "Epoch: 21 \tTraining Loss: 0.064930 \tValidation Loss: 0.089447\n",
            "Validation loss decreased (0.091258 --> 0.089447).  Saving model ...\n",
            "Epoch: 22 \tTraining Loss: 0.062650 \tValidation Loss: 0.090827\n",
            "Epoch: 23 \tTraining Loss: 0.062306 \tValidation Loss: 0.088872\n",
            "Validation loss decreased (0.089447 --> 0.088872).  Saving model ...\n",
            "Epoch: 24 \tTraining Loss: 0.058493 \tValidation Loss: 0.086942\n",
            "Validation loss decreased (0.088872 --> 0.086942).  Saving model ...\n",
            "Epoch: 25 \tTraining Loss: 0.058865 \tValidation Loss: 0.087247\n",
            "Epoch: 26 \tTraining Loss: 0.055994 \tValidation Loss: 0.085207\n",
            "Validation loss decreased (0.086942 --> 0.085207).  Saving model ...\n",
            "Epoch: 27 \tTraining Loss: 0.053494 \tValidation Loss: 0.089604\n",
            "Epoch: 28 \tTraining Loss: 0.051921 \tValidation Loss: 0.089698\n",
            "Epoch: 29 \tTraining Loss: 0.050583 \tValidation Loss: 0.088025\n",
            "Epoch: 30 \tTraining Loss: 0.049503 \tValidation Loss: 0.087375\n",
            "Epoch: 31 \tTraining Loss: 0.048018 \tValidation Loss: 0.086837\n",
            "Epoch: 32 \tTraining Loss: 0.046610 \tValidation Loss: 0.082928\n",
            "Validation loss decreased (0.085207 --> 0.082928).  Saving model ...\n",
            "Epoch: 33 \tTraining Loss: 0.043966 \tValidation Loss: 0.091572\n",
            "Epoch: 34 \tTraining Loss: 0.041981 \tValidation Loss: 0.084342\n",
            "Epoch: 35 \tTraining Loss: 0.043798 \tValidation Loss: 0.085080\n",
            "Epoch: 36 \tTraining Loss: 0.039861 \tValidation Loss: 0.082783\n",
            "Validation loss decreased (0.082928 --> 0.082783).  Saving model ...\n",
            "Epoch: 37 \tTraining Loss: 0.039433 \tValidation Loss: 0.078767\n",
            "Validation loss decreased (0.082783 --> 0.078767).  Saving model ...\n",
            "Epoch: 38 \tTraining Loss: 0.039797 \tValidation Loss: 0.083278\n",
            "Epoch: 39 \tTraining Loss: 0.036574 \tValidation Loss: 0.086517\n",
            "Epoch: 40 \tTraining Loss: 0.037984 \tValidation Loss: 0.086640\n",
            "Epoch: 41 \tTraining Loss: 0.038100 \tValidation Loss: 0.082551\n",
            "Epoch: 42 \tTraining Loss: 0.035267 \tValidation Loss: 0.088247\n",
            "Epoch: 43 \tTraining Loss: 0.034824 \tValidation Loss: 0.083857\n",
            "Epoch: 44 \tTraining Loss: 0.035015 \tValidation Loss: 0.085227\n",
            "Epoch: 45 \tTraining Loss: 0.034603 \tValidation Loss: 0.084274\n",
            "Epoch: 46 \tTraining Loss: 0.032940 \tValidation Loss: 0.081396\n",
            "Epoch: 47 \tTraining Loss: 0.033012 \tValidation Loss: 0.086713\n",
            "Epoch: 48 \tTraining Loss: 0.032452 \tValidation Loss: 0.084043\n",
            "Epoch: 49 \tTraining Loss: 0.029723 \tValidation Loss: 0.086035\n",
            "Epoch: 50 \tTraining Loss: 0.029420 \tValidation Loss: 0.087263\n",
            "Epoch: 51 \tTraining Loss: 0.027906 \tValidation Loss: 0.085641\n",
            "Epoch: 52 \tTraining Loss: 0.027655 \tValidation Loss: 0.084169\n",
            "Epoch: 53 \tTraining Loss: 0.028435 \tValidation Loss: 0.090037\n",
            "Epoch: 54 \tTraining Loss: 0.026466 \tValidation Loss: 0.088105\n",
            "Epoch: 55 \tTraining Loss: 0.025095 \tValidation Loss: 0.086760\n",
            "Epoch: 56 \tTraining Loss: 0.025215 \tValidation Loss: 0.089345\n",
            "Epoch: 57 \tTraining Loss: 0.026217 \tValidation Loss: 0.092682\n",
            "Epoch: 58 \tTraining Loss: 0.026623 \tValidation Loss: 0.087503\n",
            "Epoch: 59 \tTraining Loss: 0.024032 \tValidation Loss: 0.086179\n"
          ],
          "name": "stdout"
        }
      ]
    },
    {
      "cell_type": "code",
      "metadata": {
        "colab": {
          "base_uri": "https://localhost:8080/"
        },
        "id": "BkCz8nffAZ6J",
        "outputId": "97eeb04d-b027-4d8a-bac4-5b4c2f9a3653"
      },
      "source": [
        "# Loading the last saved version of the Model\n",
        "\n",
        "model.load_state_dict(torch.load(\"MNIST_fc.pt\"))"
      ],
      "execution_count": 15,
      "outputs": [
        {
          "output_type": "execute_result",
          "data": {
            "text/plain": [
              "<All keys matched successfully>"
            ]
          },
          "metadata": {
            "tags": []
          },
          "execution_count": 15
        }
      ]
    },
    {
      "cell_type": "code",
      "metadata": {
        "id": "O4bZP64POSn4"
      },
      "source": [
        "# Function to define the accuracy of the model\n",
        "\n",
        "def check_accuracy(loader, model):\n",
        "    '''\n",
        "      Loader: Training Loader/Testing Loader/Validation Loader i.e. to load the images and their corresponding labels\n",
        "      Model: The defined model for training\n",
        "\n",
        "    '''\n",
        "    num_correct = 0\n",
        "    num_samples = 0\n",
        "    model.eval()\n",
        "    \n",
        "    # Since back propagation is not required, to speed up the computations, setting no_grad\n",
        "    \n",
        "    with torch.no_grad():\n",
        "        for x, y in loader:\n",
        "\n",
        "            # Moving the tensors to the GPU\n",
        "            x = x.to(device=device)\n",
        "            y = y.to(device=device)\n",
        "\n",
        "\n",
        "            # Making the predictions and counting the number of correct predictions and the total number of samples\n",
        "            scores = model(x)\n",
        "            _, predictions = scores.max(1)\n",
        "            num_correct += (predictions == y).sum()\n",
        "            num_samples += predictions.size(0)\n",
        "        \n",
        "        # Calculating and printing the accuracy\n",
        "\n",
        "        print(\"Got {}/{} correct with accuracy {:.2f}\" .format(num_correct, num_samples, float(num_correct)/float(num_samples)*100))\n",
        "    model.train()"
      ],
      "execution_count": 50,
      "outputs": []
    },
    {
      "cell_type": "code",
      "metadata": {
        "colab": {
          "base_uri": "https://localhost:8080/"
        },
        "id": "KirS8jnPOUgN",
        "outputId": "c0274865-bff0-4c49-e432-4cf2b930955a"
      },
      "source": [
        "\n",
        "# Calculating the Accuracy on test data\n",
        "check_accuracy(test_loader, model)"
      ],
      "execution_count": 51,
      "outputs": [
        {
          "output_type": "stream",
          "text": [
            "Got 9737/10000 correct with accuracy 97.37\n"
          ],
          "name": "stdout"
        }
      ]
    },
    {
      "cell_type": "code",
      "metadata": {
        "id": "bwBeFpIpcMes"
      },
      "source": [
        "# Function to print the input img along with its predicted class probability\n",
        "\n",
        "def view_image_prob(img, prob):\n",
        "\n",
        "    # Moving the image and predictions to CPU\n",
        "    prob = prob.to(\"cpu\")\n",
        "    img = img.to(\"cpu\")\n",
        "    prob = prob.data.numpy().squeeze()\n",
        "\n",
        "    # Creating subplots to print the images\n",
        "    fig, (ax1, ax2) = plt.subplots(figsize=(6,9), ncols=2)\n",
        "    ax1.imshow(img.resize_(1, 28, 28).numpy().squeeze())\n",
        "    ax1.axis('off')\n",
        "    ax2.barh(np.arange(10), prob)\n",
        "    ax2.set_aspect(0.1)\n",
        "    ax2.set_yticks(np.arange(10))\n",
        "    ax2.set_yticklabels(np.arange(10))\n",
        "    ax2.set_title(\"Class Probability\")\n",
        "    ax2.set_xlim(0, 1.1)\n",
        "    plt.tight_layout()    "
      ],
      "execution_count": 52,
      "outputs": []
    },
    {
      "cell_type": "code",
      "metadata": {
        "colab": {
          "base_uri": "https://localhost:8080/",
          "height": 1000
        },
        "id": "LYEykT7LWA8d",
        "outputId": "54b2c439-7a63-4d03-abd3-79d033eda5da"
      },
      "source": [
        "# generating 10 random samples from one batch of the test data and printing the sample and it's predicted class probability\n",
        "\n",
        "images, labels = next(iter(test_loader))\n",
        "images = images.to(device)\n",
        "labels = labels.to(device)\n",
        "\n",
        "indices_test = list(range(images.shape[0]))\n",
        "np.random.shuffle(indices_test)\n",
        "idx = 10\n",
        "test_set = indices_test[:idx]\n",
        "\n",
        "\n",
        "# Printing \n",
        "for i in test_set:\n",
        "\n",
        "  test_img = images[i].view(1,784)\n",
        "\n",
        "  pred = model(test_img)\n",
        "\n",
        "  # pred contains Logits, need to take softmax to get probabilities\n",
        "  final_pred = F.softmax(pred)\n",
        "  \n",
        "  view_image_prob(test_img, final_pred)"
      ],
      "execution_count": 53,
      "outputs": [
        {
          "output_type": "stream",
          "text": [
            "/usr/local/lib/python3.7/dist-packages/ipykernel_launcher.py:21: UserWarning: Implicit dimension choice for softmax has been deprecated. Change the call to include dim=X as an argument.\n"
          ],
          "name": "stderr"
        },
        {
          "output_type": "display_data",
          "data": {
            "image/png": "[encoded data removed]",
            "text/plain": [
              "<Figure size 432x648 with 2 Axes>"
            ]
          },
          "metadata": {
            "tags": [],
            "needs_background": "light"
          }
        },
        {
          "output_type": "display_data",
          "data": {
            "image/png": "[encoded data removed]",
            "text/plain": [
              "<Figure size 432x648 with 2 Axes>"
            ]
          },
          "metadata": {
            "tags": [],
            "needs_background": "light"
          }
        },
        {
          "output_type": "display_data",
          "data": {
            "image/png": "[encoded data removed]",
            "text/plain": [
              "<Figure size 432x648 with 2 Axes>"
            ]
          },
          "metadata": {
            "tags": [],
            "needs_background": "light"
          }
        },
        {
          "output_type": "display_data",
          "data": {
            "image/png": "[encoded data removed]",
            "text/plain": [
              "<Figure size 432x648 with 2 Axes>"
            ]
          },
          "metadata": {
            "tags": [],
            "needs_background": "light"
          }
        },
        {
          "output_type": "display_data",
          "data": {
            "image/png": "[encoded data removed]",
            "text/plain": [
              "<Figure size 432x648 with 2 Axes>"
            ]
          },
          "metadata": {
            "tags": [],
            "needs_background": "light"
          }
        },
        {
          "output_type": "display_data",
          "data": {
            "image/png": "[encoded data removed]",
            "text/plain": [
              "<Figure size 432x648 with 2 Axes>"
            ]
          },
          "metadata": {
            "tags": [],
            "needs_background": "light"
          }
        },
        {
          "output_type": "display_data",
          "data": {
            "image/png": "[encoded data removed]",
            "text/plain": [
              "<Figure size 432x648 with 2 Axes>"
            ]
          },
          "metadata": {
            "tags": [],
            "needs_background": "light"
          }
        },
        {
          "output_type": "display_data",
          "data": {
            "image/png": "[encoded data removed]",
            "text/plain": [
              "<Figure size 432x648 with 2 Axes>"
            ]
          },
          "metadata": {
            "tags": [],
            "needs_background": "light"
          }
        },
        {
          "output_type": "display_data",
          "data": {
            "image/png": "[encoded data removed]",
            "text/plain": [
              "<Figure size 432x648 with 2 Axes>"
            ]
          },
          "metadata": {
            "tags": [],
            "needs_background": "light"
          }
        },
        {
          "output_type": "display_data",
          "data": {
            "image/png": "[encoded data removed]",
            "text/plain": [
              "<Figure size 432x648 with 2 Axes>"
            ]
          },
          "metadata": {
            "tags": [],
            "needs_background": "light"
          }
        }
      ]
    },
    {
      "cell_type": "markdown",
      "metadata": {
        "id": "GrDqPbNJbfUM"
      },
      "source": [
        "As we can see our model gets all of the random examples correct. \n",
        "\n",
        "The testing accuracy is greater than 97%\n"
      ]
    },
    {
      "cell_type": "code",
      "metadata": {
        "id": "B34EVyeGmmsn"
      },
      "source": [
        ""
      ],
      "execution_count": null,
      "outputs": []
    }
  ]
}